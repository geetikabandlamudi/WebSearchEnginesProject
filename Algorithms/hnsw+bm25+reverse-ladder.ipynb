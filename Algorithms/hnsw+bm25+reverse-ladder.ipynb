{
 "cells": [
  {
   "cell_type": "code",
   "execution_count": 2,
   "metadata": {},
   "outputs": [],
   "source": [
    "from sentence_transformers import SentenceTransformer\n",
    "import subprocess\n",
    "from docContentManager import DocContentManager\n",
    "from keybert import KeyBERT\n",
    "from itertools import chain\n",
    "import hnswlib\n",
    "from sklearn.metrics.pairwise import cosine_similarity\n",
    "sentence_transformer_model = SentenceTransformer('all-MiniLM-L6-v2')\n",
    "kw_model = KeyBERT(model='all-MiniLM-L6-v2')\n",
    "\n",
    "dimension = 384 \n",
    "index = hnswlib.Index(space='cosine', dim=dimension)\n",
    "index.load_index('hnsw_index_all.bin')\n",
    "d = DocContentManager()\n"
   ]
  },
  {
   "cell_type": "markdown",
   "metadata": {},
   "source": [
    "# KeyBERT - Query Expansion and Keyword Generation"
   ]
  },
  {
   "cell_type": "code",
   "execution_count": 3,
   "metadata": {},
   "outputs": [],
   "source": [
    "def expandQueryByKeyBert(query, passage_list, k=5):\n",
    "    all_passages = \" \".join(passage_list)\n",
    "    keywords = kw_model.extract_keywords(all_passages, stop_words=query.split() ,top_n=k)\n",
    "    new_user_query =  \" \".join([term for term, _ in keywords]) + query\n",
    "    return new_user_query"
   ]
  },
  {
   "cell_type": "code",
   "execution_count": 4,
   "metadata": {},
   "outputs": [],
   "source": [
    "from nltk.corpus import stopwords\n",
    "from nltk.tokenize import word_tokenize\n",
    "from nltk.stem import WordNetLemmatizer\n",
    "\n",
    "lemmatizer = WordNetLemmatizer()\n",
    "# Function to extract keywords from a single query\n",
    "def extract_keywords_from_query(query, lemmatize=False):\n",
    "    # Tokenize the query\n",
    "    words = word_tokenize(query)\n",
    "    # Convert to lower case\n",
    "    words = [word.lower() for word in words]\n",
    "    # Remove stopwords\n",
    "    stop_words = set(stopwords.words('english'))\n",
    "    \n",
    "    if lemmatize:\n",
    "        keywords_singular = [lemmatizer.lemmatize(word) for word in words]\n",
    "    else:\n",
    "        keywords_singular = words\n",
    "    keywords = [word for word in keywords_singular if word not in stop_words and word.isalnum()]\n",
    "    return keywords"
   ]
  },
  {
   "cell_type": "code",
   "execution_count": 5,
   "metadata": {},
   "outputs": [],
   "source": [
    "def findKeywords(query, k=5):\n",
    "    keywords = kw_model.extract_keywords(query, top_n=k)\n",
    "    new_user_query =  \" \".join([term for term, _ in keywords])\n",
    "    return new_user_query\n"
   ]
  },
  {
   "cell_type": "code",
   "execution_count": 6,
   "metadata": {},
   "outputs": [],
   "source": [
    "def executeBM25(query):\n",
    "\n",
    "    relevant_docs = []\n",
    "\n",
    "    # query = extract_keywords_from_query(query)\n",
    "    # query = \" \".join(query) \n",
    "    # print(\"Cleaning up query :: \", query)\n",
    "    while True:\n",
    "        cpp_executable_path = './bm25' \n",
    "        command = [cpp_executable_path, query]\n",
    "        process = subprocess.run(command, capture_output=True, text=True)\n",
    "        \n",
    "        if process.returncode == 0:\n",
    "            output_lines = process.stdout.strip().split('\\n')\n",
    "\n",
    "            # Process each line of output\n",
    "            for line in output_lines:\n",
    "                if line == \"Word not found in index map.\" or line == \"\":\n",
    "                    # print(\"New word - not found in corpus\")\n",
    "                    continue\n",
    "                else:\n",
    "                    pid = int(line)\n",
    "                    if pid < 7999999: \n",
    "                        relevant_docs.append(pid)\n",
    "        else:\n",
    "            print(\"Error:\", process.stderr)\n",
    "        if len(relevant_docs) == 0 and len(query)>0:\n",
    "            query = findKeywords(query)\n",
    "        else:\n",
    "            return relevant_docs\n",
    "    "
   ]
  },
  {
   "cell_type": "code",
   "execution_count": 7,
   "metadata": {},
   "outputs": [],
   "source": [
    "def get_embedding(inp_question):\n",
    "    return sentence_transformer_model.encode(inp_question, convert_to_tensor=True)"
   ]
  },
  {
   "cell_type": "code",
   "execution_count": 34,
   "metadata": {},
   "outputs": [],
   "source": [
    "def hnsw(input_question, k=100):\n",
    "    # print(input_question, \" in semantic_search()\")\n",
    "\n",
    "    # Encode input and get results from HNSW\n",
    "    embeddings = sentence_transformer_model.encode(input_question, convert_to_tensor=True)\n",
    "    labels, distances = index.knn_query(embeddings, k=k)\n",
    "    labels = list(chain(*labels))\n",
    "    # print(labels)\n",
    "\n",
    "    # Get relevant words from HNSW returned documents \n",
    "    relevant_embeddings = \"\"\n",
    "    for doc in labels:\n",
    "        relevant_embeddings = relevant_embeddings + \" \" + d.fetchPassageContent(doc)\n",
    "    relevant_embeddings = extract_keywords_from_query(relevant_embeddings)\n",
    "    relevant_embeddings = \" \".join(relevant_embeddings)\n",
    "    new_query = findKeywords(relevant_embeddings, 5)\n",
    "\n",
    "\n",
    "    # Execute BM25 on new query\n",
    "    print(\"Post Pseudo Relevance Feedback Query:: \", new_query)\n",
    "    relevant_docs = executeBM25(input_question)\n",
    "    # print(relevant_docs)\n",
    "    \n",
    "    return relevant_docs"
   ]
  },
  {
   "cell_type": "code",
   "execution_count": 64,
   "metadata": {},
   "outputs": [
    {
     "name": "stdout",
     "output_type": "stream",
     "text": [
      "Given Query :: panthera leo\n",
      "Post Pseudo Relevance Feedback Query::  lion panther lionesses panthera felines\n"
     ]
    },
    {
     "name": "stderr",
     "output_type": "stream",
     "text": [
      "huggingface/tokenizers: The current process just got forked, after parallelism has already been used. Disabling parallelism to avoid deadlocks...\n",
      "To disable this warning, you can either:\n",
      "\t- Avoid using `tokenizers` before the fork if possible\n",
      "\t- Explicitly set the environment variable TOKENIZERS_PARALLELISM=(true | false)\n"
     ]
    },
    {
     "name": "stdout",
     "output_type": "stream",
     "text": [
      "\n",
      "\n",
      "\n",
      "Took 1.388951063156128  seconds to search\n",
      "Results\n",
      "\n",
      "6141792 :  Classification. Lions belong to the genus Panthera which contains well known animals such as the tiger, leopard, and jaguar. Within the genus Panthera, the lion is further classifed as the species Panthera leo.The full scientific classification is as follows: 1  Kingdom: Animalia. 2  Phylum: Chordata. 3  Class: Mammalia. 4  Order: Carnivora. 5  Family: Felidae. 6  Genus: Panthera.ithin the genus Panthera, the lion is further classifed as the species Panthera leo. The full scientific classification is as follows: 1  Kingdom: Animalia. 2  Phylum: Chordata. 3  Class: Mammalia. 4  Order: Carnivora. 5  Family: Felidae. 6  Genus: Panthera.\n",
      "\n",
      "1074234 :  Humans, of course, are Homo sapiens. The full classification for a lion would be: Kingdom, Animalia (animals); Phylum, Chordata (vertebrate animals); Class, Mammalia (mammals); Order, Carnivora (meat eaters); Family, Felidae (all cats); Genus, Panthera (great cats); Species, leo (lions).cientific Classification. Classification, or taxonomy, is a system of categorizing living things. There are seven divisions in the system: (1) Kingdom; (2) Phylum or Division; (3) Class; (4) Order; (5) Family; (6) Genus; (7) Species. Kingdom is the broadest division.\n",
      "\n",
      "6647149 :  Asiatic lion population. As per a 2015 census, the Gir forest and surrounding areas were said to contain an estimated 523 individuals, comprising of 109 adult males, 201 adult lionesses, and 213 cubs.\n",
      "\n",
      "6141794 :  Two subspecies are currently recognised: the African lion (Panthera leo leo) and the Asiatic lion (Panthera leo persica) . The Asiatic lion is slightly smaller than its African cousin, and has a shorter, thinner mane and a fold of skin running the length of the belly that is rare in African lions.wo subspecies are currently recognised: the African lion (Panthera leo leo) and the Asiatic lion (Panthera leo persica) . The Asiatic lion is slightly smaller than its African cousin, and has a shorter, thinner mane and a fold of skin running the length of the belly that is rare in African lions.\n",
      "\n",
      "6141793 :  â¢ PANTHERA LEO (noun). The noun PANTHERA LEO has 1 sense: 1. large gregarious predatory feline of Africa and India having a tawny coat with a shaggy mane in the male. Familiarity information: PANTHERA LEO used as a noun is very rare.ypernyms (Panthera leo is a kind of...): big cat; cat (any of several large cats typically able to roar and living in the wild). Meronyms (parts of Panthera leo): mane (long coarse hair growing from the crest of the animal's neck).\n",
      "\n",
      "5154863 :  black panthers run 50 mph for 160 yards   That is incorrent. There is no 'black panther' than can run 50 mph. You just pulled that out of no where. There is no such thingâ¦ as a Black 'Panther.' There are black Leopards and black Jaguars. Leopards have been clocked at 36 mph.\n",
      "\n",
      "4355761 :  All domestic dogs, including pitbulls, belong to the same subspecies: Kingdom: Animalia Phylum: Chordata Class: Mammalia Order: Carnivors Family: Canidae Genus: Ca â¦ nis Species: C. lupus Subspecies: C. l. familiaris.4 people found this useful. Kingdom Animalia (includes all animals). 2  Phylum Chordata (includes all vertebrate animals, as well as some other more primitive ones). 3  Class Mammalia (includes all mammals). 4  Order Carnivora (includes carnivorous-meat eating-mammals, from bears to raccoons to harbor seals).\n",
      "\n",
      "6118886 :  With a name like Hercules, you know he's got to be big. But at 922 pounds, big is an understatement for the world's largest living cat, according to the 2014 Guinness Book of World Records. Hercules is a liger -- the hybrid offspring of a male lion and a tigress -- who lives at the Myrtle Beach Safari wildlife preserve in South Carolina. He is 131 inches long, and measures 49 inches tall at the shoulder. Ligers, which do not exist in the wild, can grow to twice the size of their parents and weigh about a hundred times more than the average house cat.\n",
      "\n",
      "7879654 :  Refrigeration: Types and Applications Refrigeration processes are very common and have significantly improved the quality of life of many people in a variety of ways.\n",
      "\n",
      "6141789 :  Panthera is a genus within the Felidae family that was named and first described by the German naturalist Oken in 1816. The British taxonomist Pocock revised the classification of this genus in 1916 as comprising the species tiger, lion, jaguar and leopard on the basis of cranial features.Results of genetic analysis indicate that the snow leopard also belongs to the Panthera, a classification that was accepted by IUCN assessors in 2008.Only the tiger, lion, leopard and jaguar have the anatomical structure that enables them to roar.esults of genetic analysis indicate that the snow leopard also belongs to the Panthera, a classification that was accepted by IUCN assessors in 2008. Only the tiger, lion, leopard and jaguar have the anatomical structure that enables them to roar.\n",
      "\n",
      "4823847 :  The Lion is the only cat that lives in large social groups, shares its territory, and regularly hunts together. The Lionâs diet consists of wildebeests, antelope, zebras, wild pigs, buffalo, impalas, and other hoofed mammals.ub mortality is very high in lions, and less than half will survive their first year. Young males will leave their pride between 2-4 years if they can get away with staying that long, but sometimes they are forced out as early as 13-20 months.\n",
      "\n",
      "7719381 :  The scientific classification for the common African violet is as follows: 1  Kingdom: Plantae. 2  Phylum: Trachaeophyta. 3  Class: Angiospermae.  Order: 1  Scrophulariales. Family: Gesneriaceae.  Genus: 1  Saintpaulia. Species: ionantha.\n",
      "\n",
      "4288269 :  Female mice, or does, experience estrus -- heat -- every three to five days, so most does housed with a single male become pregnant within one to five days.\n",
      "\n",
      "3440576 :  Males and females take on very different roles in the pride. Male lions spend their time guarding their territory and their cubs. They maintain the boundaries of their territory, which can be as large as 260 sq. km (100 sq. mi.), by roaring, marking it with urine, and chasing off intruders.\n",
      "\n",
      "5341868 :  Tigris (- is or-idis, m. or f.) is the Latin word for tiger.\n",
      "\n",
      "3179332 :  Chiroptera There are about 1200 species of bat with different binary  (scientific) names. Some bat groups are the Acerodons, the  Rousettus, Craseonycterus, Myotis, and Arti â¦ beus.Each of these  genera (First half of the binary name) can have several species  (Second half of the binary name).he scientific name of bat is Pipistrellus Pipistrellus that is a common bat's scientific name.\n",
      "\n",
      "7555671 :  Signs if jealous... 1  Aries: No matter how much an Aries may appear to be confident and in charge, they often have an underlying insecurity. If youâre involved with an Aries, get ready for an emotional rollercoaster. 2  Taurus: A Taurus is stubborn and doesnât like to show their emotions to people.\n",
      "\n",
      "4259240 :  Today the range of the lion, Panthera leo is almost entirely limited to sub-Saharan Africa. Lions occur throughout that region, except in the equatorial rain forest and in the heavily populated regions along the southern coast of the western portion of the continent (see map at right).ions were once far more widespread than they are today. In historic times they were found throughout much of southern Eurasia (map of the lion's former range). Anciently, they were also present in Greece and the Balkan Peninsula. For example, they are mentioned repeatedly in the Iliad.\n",
      "\n",
      "6886164 :  For the swell characteristics of solidified clay rocks the following relationships were assumed at first. â Higher weathering grade cause in higher swell values due to unloading. â Higher weathering grade cause in lower swell potential, i.e. lower swell pressures at com-pletely restrained volumetric expansion.\n",
      "\n",
      "4823844 :  The lion (Panthera leo) is one of the five big cats in the genus Panthera and a member of the family Felidae.The commonly used term African lion collectively denotes the several subspecies found in Africa.With some males exceeding 250 kg (550 lb) in weight, it is the second-largest living cat after the tiger.he lion (Panthera leo) is one of the five big cats in the genus Panthera and a member of the family Felidae. The commonly used term African lion collectively denotes the several subspecies found in Africa. With some males exceeding 250 kg (550 lb) in weight, it is the second-largest living cat after the tiger.\n",
      "\n",
      "2291469 :  Quick Answer. Adult male mountain lions usually weigh between 110 and 180 pounds, while females typically weigh between 80 and 130 pounds. In rare cases, a mountain lion may exceed 200 pounds. The mountain lion is an adaptable predator and ranges from Canada to South America. Continue Reading\n",
      "\n",
      "3811895 :  Physical therapist assistants who are members of the APTA and have at least five years of work experience, 60 hours of continuing education credits, a letter of recommendation, and demonstrated leadership abilities might qualify for this credential.\n",
      "\n",
      "2484635 :  Eubacteria are bacteria, made up of small cells, which differ in appearance from the organisms in the above kingdoms. They lack a nucleus and cell organelles. They have cell walls made of peptidoglycan. Archae (or Archaebacteria) are bacteria which live in extreme environments, such as salt lakes or hot, acidic springs.\n",
      "\n",
      "1563551 :  You are, of course, guaranteed cheetah at the cheetah and big-cat rehabilitation centres in South Africa and Namibia. Farmers, who traditionally shot cheetah in order to protect their livestock, have been increasingly encouraged to trap these predators and bring them to the rescue foundations.\n",
      "\n"
     ]
    }
   ],
   "source": [
    "import time\n",
    "start = time.time()\n",
    "query = \"panthera leo\"\n",
    "print(\"Given Query ::\", query)\n",
    "result = hnsw(query, 100)\n",
    "end = time.time()\n",
    "\n",
    "print(\"\\n\\n\\nTook\", end-start, \" seconds to search\")\n",
    "print(\"Results\\n\")\n",
    "for pid in result:\n",
    "    print(str(pid)+\" : \", d.fetchPassageContent(pid))\n",
    "    print()\n",
    "\n"
   ]
  },
  {
   "cell_type": "code",
   "execution_count": 10,
   "metadata": {},
   "outputs": [],
   "source": [
    "def query_passage_similarity(query, pid):\n",
    "    embedding_i = get_embedding(query)\n",
    "    embedding_j = get_embedding(d.fetchPassageContent(pid))\n",
    "    similarity = cosine_similarity(embedding_i.reshape(1, -1), embedding_j.reshape(1, -1))[0, 0]\n",
    "    return similarity"
   ]
  },
  {
   "cell_type": "code",
   "execution_count": 16,
   "metadata": {},
   "outputs": [
    {
     "name": "stdout",
     "output_type": "stream",
     "text": [
      "Similarity Score 0.23799196\n"
     ]
    }
   ],
   "source": [
    "similarity_score = query_passage_similarity(query, result[0])\n",
    "print(\"Similarity Score\", similarity_score)"
   ]
  },
  {
   "cell_type": "code",
   "execution_count": null,
   "metadata": {},
   "outputs": [],
   "source": []
  }
 ],
 "metadata": {
  "kernelspec": {
   "display_name": "Python 3",
   "language": "python",
   "name": "python3"
  },
  "language_info": {
   "codemirror_mode": {
    "name": "ipython",
    "version": 3
   },
   "file_extension": ".py",
   "mimetype": "text/x-python",
   "name": "python",
   "nbconvert_exporter": "python",
   "pygments_lexer": "ipython3",
   "version": "3.10.9"
  }
 },
 "nbformat": 4,
 "nbformat_minor": 2
}
