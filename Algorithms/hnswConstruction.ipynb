{
 "cells": [
  {
   "cell_type": "code",
   "execution_count": 1,
   "metadata": {},
   "outputs": [],
   "source": [
    "import pickle\n",
    "from sentence_transformers import SentenceTransformer\n",
    "import pickle\n",
    "import hnswlib\n",
    "import torch\n",
    "\n",
    "model_name = 'all-MiniLM-L6-v2'\n",
    "sentence_transformer_model = SentenceTransformer(model_name)"
   ]
  },
  {
   "cell_type": "code",
   "execution_count": null,
   "metadata": {},
   "outputs": [],
   "source": [
    "# The first time, intialize the HNSW space. Do not run this again and again. This is a 1 time cell.\n",
    "# num_elements, embedding_dim = 7999999, 384\n",
    "# p = hnswlib.Index(space='cosine', dim=embedding_dim)\n",
    "# p.init_index(max_elements=num_elements, ef_construction=100, M=16)\n",
    "# p.save_index('hnsw_index_all.bin')"
   ]
  },
  {
   "cell_type": "code",
   "execution_count": 2,
   "metadata": {},
   "outputs": [],
   "source": [
    "num_elements, embedding_dim = 7999999, 384\n",
    "p = hnswlib.Index(space='cosine', dim=embedding_dim)\n",
    "p.load_index(\"hnsw_index_all.bin\")"
   ]
  },
  {
   "cell_type": "code",
   "execution_count": 3,
   "metadata": {},
   "outputs": [
    {
     "data": {
      "text/plain": [
       "<hnswlib.Index(space='cosine', dim=384)>"
      ]
     },
     "execution_count": 3,
     "metadata": {},
     "output_type": "execute_result"
    }
   ],
   "source": [
    "p"
   ]
  },
  {
   "cell_type": "code",
   "execution_count": 4,
   "metadata": {},
   "outputs": [
    {
     "name": "stderr",
     "output_type": "stream",
     "text": [
      "/var/folders/kc/18fj_n894sb39k_1hmrch5380000gn/T/ipykernel_95410/2625587185.py:6: UserWarning: To copy construct from a tensor, it is recommended to use sourceTensor.clone().detach() or sourceTensor.clone().detach().requires_grad_(True), rather than torch.tensor(sourceTensor).\n",
      "  embedding = torch.tensor(embedding)\n"
     ]
    }
   ],
   "source": [
    "# Load the embeddings into HNSW space\n",
    "for i in range(40):\n",
    "    filename = \"../EmbeddingGeneration/embeddings/corpus_embeddings_\" + str(i)\n",
    "    with open(filename, 'rb') as f:\n",
    "        embedding = pickle.load(f)\n",
    "        embedding = torch.tensor(embedding)\n",
    "        num_elements, embedding_dim = embedding.shape\n",
    "        p.add_items(embedding)\n",
    "        p.save_index('hnsw_index_all.bin')\n",
    "        print(i, \" done. Dimensions :: \", num_elements, embedding_dim)"
   ]
  },
  {
   "cell_type": "markdown",
   "metadata": {},
   "source": [
    "Check the file hnsw_index_all.bin in the same directory."
   ]
  }
 ],
 "metadata": {
  "kernelspec": {
   "display_name": "Python 3",
   "language": "python",
   "name": "python3"
  },
  "language_info": {
   "codemirror_mode": {
    "name": "ipython",
    "version": 3
   },
   "file_extension": ".py",
   "mimetype": "text/x-python",
   "name": "python",
   "nbconvert_exporter": "python",
   "pygments_lexer": "ipython3",
   "version": "3.10.9"
  }
 },
 "nbformat": 4,
 "nbformat_minor": 2
}
