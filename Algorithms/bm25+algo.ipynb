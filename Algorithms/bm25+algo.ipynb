{
 "cells": [
  {
   "cell_type": "markdown",
   "metadata": {},
   "source": [
    "# Load Modules"
   ]
  },
  {
   "cell_type": "code",
   "execution_count": 1,
   "metadata": {},
   "outputs": [],
   "source": [
    "import pickle\n",
    "from sentence_transformers import SentenceTransformer, util\n",
    "import subprocess\n",
    "import torch\n",
    "from docContentManager import DocContentManager\n",
    "from sklearn.neighbors import NearestNeighbors\n",
    "from sklearn.metrics.pairwise import cosine_similarity\n",
    "from keybert import KeyBERT\n",
    "sentence_transformer_model = SentenceTransformer('all-MiniLM-L6-v2')\n",
    "kw_model = KeyBERT(model='all-MiniLM-L6-v2')\n",
    "\n",
    "\n",
    "combined_corpus_embeddings_path = \"embeddings/combined_corpus_embeddings\"\n",
    "queries_path = 'validation/msmarco-test2019-queries.tsv'\n",
    "top100_path = 'validation/msmarco-passagetest2019-top1000.tsv'\n",
    "qrels_path = 'validation/2019qrels-pass.txt'"
   ]
  },
  {
   "cell_type": "markdown",
   "metadata": {},
   "source": [
    "# Load Embeddings"
   ]
  },
  {
   "cell_type": "code",
   "execution_count": 2,
   "metadata": {},
   "outputs": [],
   "source": [
    "with open(combined_corpus_embeddings_path, 'rb') as file:\n",
    "    corpus_embeddings = pickle.load(file)"
   ]
  },
  {
   "cell_type": "code",
   "execution_count": 3,
   "metadata": {},
   "outputs": [
    {
     "name": "stderr",
     "output_type": "stream",
     "text": [
      "/var/folders/kc/18fj_n894sb39k_1hmrch5380000gn/T/ipykernel_1317/2085228624.py:1: UserWarning: To copy construct from a tensor, it is recommended to use sourceTensor.clone().detach() or sourceTensor.clone().detach().requires_grad_(True), rather than torch.tensor(sourceTensor).\n",
      "  corpus_embeddings = torch.tensor(corpus_embeddings)\n"
     ]
    }
   ],
   "source": [
    "corpus_embeddings = torch.tensor(corpus_embeddings)"
   ]
  },
  {
   "cell_type": "code",
   "execution_count": 4,
   "metadata": {},
   "outputs": [],
   "source": [
    "d = DocContentManager()"
   ]
  },
  {
   "cell_type": "code",
   "execution_count": 5,
   "metadata": {},
   "outputs": [],
   "source": [
    "def generateEmbeddings(docs):\n",
    "    query_embeddings = []\n",
    "    for i in docs:\n",
    "        if i<7999999:\n",
    "            query_embeddings.append(corpus_embeddings[i])\n",
    "    return query_embeddings"
   ]
  },
  {
   "cell_type": "code",
   "execution_count": 6,
   "metadata": {},
   "outputs": [],
   "source": [
    "# Function to convert a query into an embedding\n",
    "def get_embedding(inp_question):\n",
    "    return sentence_transformer_model.encode(inp_question, convert_to_tensor=True)"
   ]
  },
  {
   "cell_type": "markdown",
   "metadata": {},
   "source": [
    "# KeyBERT - Query Expansion and Keyword Generation"
   ]
  },
  {
   "cell_type": "code",
   "execution_count": 7,
   "metadata": {},
   "outputs": [],
   "source": [
    "def expandQueryByKeyBert(query, passage_list, k=5):\n",
    "    all_passages = \" \".join(passage_list)\n",
    "    keywords = kw_model.extract_keywords(all_passages, stop_words=query.split() ,top_n=k)\n",
    "    new_user_query =  \" \".join([term for term, _ in keywords]) + query\n",
    "    return new_user_query"
   ]
  },
  {
   "cell_type": "code",
   "execution_count": 8,
   "metadata": {},
   "outputs": [],
   "source": [
    "from nltk.corpus import stopwords\n",
    "from nltk.tokenize import word_tokenize\n",
    "\n",
    "# Function to extract keywords from a single query\n",
    "def extract_keywords_from_query(query):\n",
    "    # Tokenize the query\n",
    "    words = word_tokenize(query)\n",
    "    # Convert to lower case\n",
    "    words = [word.lower() for word in words]\n",
    "    # Remove stopwords\n",
    "    stop_words = set(stopwords.words('english'))\n",
    "    keywords = [word for word in words if word not in stop_words and word.isalnum()]\n",
    "    return keywords"
   ]
  },
  {
   "cell_type": "code",
   "execution_count": 9,
   "metadata": {},
   "outputs": [],
   "source": [
    "def findKeywords(query):\n",
    "    k = len(query.split()) - 1\n",
    "    keywords = kw_model.extract_keywords(query, top_n=k)\n",
    "    new_user_query =  \" \".join([term for term, _ in keywords])\n",
    "    return new_user_query\n"
   ]
  },
  {
   "cell_type": "markdown",
   "metadata": {},
   "source": [
    "# BM25"
   ]
  },
  {
   "cell_type": "code",
   "execution_count": 10,
   "metadata": {},
   "outputs": [],
   "source": [
    "def executeBM25(query):\n",
    "\n",
    "    relevant_docs = []\n",
    "\n",
    "    query = extract_keywords_from_query(query)\n",
    "    query = \" \".join(query) \n",
    "    while True:\n",
    "        cpp_executable_path = './bm25' \n",
    "        command = [cpp_executable_path, query]\n",
    "        process = subprocess.run(command, capture_output=True, text=True)\n",
    "        \n",
    "        if process.returncode == 0:\n",
    "            output_lines = process.stdout.strip().split('\\n')\n",
    "\n",
    "            # Process each line of output\n",
    "            for line in output_lines:\n",
    "                if line == \"Word not found in index map.\" or line == \"\":\n",
    "                    # print(\"New word - not found in corpus\")\n",
    "                    continue\n",
    "                else:\n",
    "                    pid = int(line)\n",
    "                    if pid < 7999999: \n",
    "                        relevant_docs.append(pid)\n",
    "        else:\n",
    "            print(\"Error:\", process.stderr)\n",
    "        if len(relevant_docs) == 0 and len(query)>0:\n",
    "            query = findKeywords(query)\n",
    "        else:\n",
    "            return relevant_docs\n",
    "    "
   ]
  },
  {
   "cell_type": "markdown",
   "metadata": {},
   "source": [
    "# Semantic Search"
   ]
  },
  {
   "cell_type": "code",
   "execution_count": 11,
   "metadata": {},
   "outputs": [],
   "source": [
    "def semantic_search(input_question, k=100):\n",
    "    final_passages = []\n",
    "    # print(input_question, \" in semantic_search()\")\n",
    "    relevant_docs = executeBM25(input_question)\n",
    "    # print(relevant_docs)\n",
    "    relevant_embeddings = generateEmbeddings(relevant_docs)\n",
    "    hits = util.semantic_search(relevant_embeddings, corpus_embeddings, top_k=k)\n",
    "    for hit in hits[0]:\n",
    "        final_passages.append(int(hit['corpus_id']))\n",
    "    \n",
    "    return final_passages"
   ]
  },
  {
   "cell_type": "code",
   "execution_count": 20,
   "metadata": {},
   "outputs": [
    {
     "name": "stderr",
     "output_type": "stream",
     "text": [
      "huggingface/tokenizers: The current process just got forked, after parallelism has already been used. Disabling parallelism to avoid deadlocks...\n",
      "To disable this warning, you can either:\n",
      "\t- Avoid using `tokenizers` before the fork if possible\n",
      "\t- Explicitly set the environment variable TOKENIZERS_PARALLELISM=(true | false)\n"
     ]
    },
    {
     "name": "stdout",
     "output_type": "stream",
     "text": [
      "Query ::  panthera leo\n",
      "Took  40.57480001449585 s for the query\n",
      "6141792 :  Classification. Lions belong to the genus Panthera which contains well known animals such as the tiger, leopard, and jaguar. Within the genus Panthera, the lion is further classifed as the species Panthera leo.The full scientific classification is as follows: 1  Kingdom: Animalia. 2  Phylum: Chordata. 3  Class: Mammalia. 4  Order: Carnivora. 5  Family: Felidae. 6  Genus: Panthera.ithin the genus Panthera, the lion is further classifed as the species Panthera leo. The full scientific classification is as follows: 1  Kingdom: Animalia. 2  Phylum: Chordata. 3  Class: Mammalia. 4  Order: Carnivora. 5  Family: Felidae. 6  Genus: Panthera.\n",
      "\n",
      "6141794 :  Two subspecies are currently recognised: the African lion (Panthera leo leo) and the Asiatic lion (Panthera leo persica) . The Asiatic lion is slightly smaller than its African cousin, and has a shorter, thinner mane and a fold of skin running the length of the belly that is rare in African lions.wo subspecies are currently recognised: the African lion (Panthera leo leo) and the Asiatic lion (Panthera leo persica) . The Asiatic lion is slightly smaller than its African cousin, and has a shorter, thinner mane and a fold of skin running the length of the belly that is rare in African lions.\n",
      "\n",
      "7303959 :  Meaning: Lions; leopards; snow leopards; jaguars; tigers; cheetahs; saber-toothed tigers. Classified under: Nouns denoting animals. Synonyms: genus Panthera; Panthera. Hypernyms (Panthera is a kind of...): mammal genus (a genus of mammals) Meronyms (members of Panthera): leopard; Panthera pardus (large feline of African and Asian forests usually having a tawny coat with black spots) ounce; Panthera uncia; snow leopard (large feline of upland central Asia having long thick whitish fur)\n",
      "\n",
      "7303958 :  Pantera is the name of a Roman soldier buried in Germany believed to be the father of Jesus Christ, ancient Hebrew tex point to this possibility, a statue of Pantera from ancient Roman times was discovered in Germany at his burial site , he lived to be 62.\n",
      "\n",
      "343231 :  The World's Biggest Lion. The Barbary lion is accepted throughout the world as the biggest lion that exists. This animal can reach a weight of approximately 630 pounds. This is about 200 pounds lighter than the African lion. According to research, this lion is actually extinct in the world and its ancestors are held in captivity in places such as zoos.\n",
      "\n",
      "3974739 :  Lion (Panthera leo), large, powerfully built cat (family Felidae) that is second in size only to the tiger. The proverbial âking of beasts,â the lion has been one of the best-known wild animals since earliest times.\n",
      "\n",
      "6747386 :  The full classification for a lion would be: Kingdom, Animalia (animals); Phylum, Chordata (vertebrate animals); Class, Mammalia (mammals); Order, Carnivora (meat eaters); Family, Felidae (all cats); Genus, Panthera (great cats); Species, leo (lions).\n",
      "\n",
      "7719381 :  The scientific classification for the common African violet is as follows: 1  Kingdom: Plantae. 2  Phylum: Trachaeophyta. 3  Class: Angiospermae.  Order: 1  Scrophulariales. Family: Gesneriaceae.  Genus: 1  Saintpaulia. Species: ionantha.\n",
      "\n",
      "1074235 :  Within the genus Panthera, the lion is further classifed as the species Panthera leo. The full scientific classification is as follows: 1  Kingdom: Animalia. 2  Phylum: Chordata. 3  Class: Mammalia.4  Order: Carnivora. 5  Family: Felidae. 6  Genus: Panthera. 7  Species: Panthera leo.ithin the genus Panthera, the lion is further classifed as the species Panthera leo. The full scientific classification is as follows: 1  Kingdom: Animalia. 2  Phylum: Chordata. 3  Class: Mammalia. 4  Order: Carnivora. 5  Family: Felidae. 6  Genus: Panthera. 7  Species: Panthera leo.\n",
      "\n",
      "1783301 :  For non-residents, the inheritance tax is imposed on all real property and tangible personal property located in Pennsylvania at the date of the decedentâs death. While the federal tax uses a three-year look back period for gifts made by the decedent, there is a one-year look back period for the Pennsylvania inheritance tax.\n",
      "\n",
      "6721232 :  There are lists of common male cat names, but...what do they mean? Are certain names associated with certain characteristics and traits? After interviewing several veterinarians about this hypothesis, it was determined that there are certain characteristics generally associated with some names.\n",
      "\n",
      "4259240 :  Today the range of the lion, Panthera leo is almost entirely limited to sub-Saharan Africa. Lions occur throughout that region, except in the equatorial rain forest and in the heavily populated regions along the southern coast of the western portion of the continent (see map at right).ions were once far more widespread than they are today. In historic times they were found throughout much of southern Eurasia (map of the lion's former range). Anciently, they were also present in Greece and the Balkan Peninsula. For example, they are mentioned repeatedly in the Iliad.\n",
      "\n",
      "7555671 :  Signs if jealous... 1  Aries: No matter how much an Aries may appear to be confident and in charge, they often have an underlying insecurity. If youâre involved with an Aries, get ready for an emotional rollercoaster. 2  Taurus: A Taurus is stubborn and doesnât like to show their emotions to people.\n",
      "\n",
      "7157622 :  lion. 1  a silver, Anglo-Gallic denier, issued during the reign of Henry III, bearing the figure of a lion. 2  a gold coin of Scotland, issued c1400â1589, bearing the figure of a lion. 3  any of various other coins bearing the figure of a lion. 4  hardhead2 .\n",
      "\n",
      "3914433 :  African lions are one of the biggest cats in the world. To ensure survival, their body has been going through several changes to fight difficult situations and emerge as a winner. This Buzzle article is about the various adaptations these African cats have acquired to survive in their challenging environment.\n",
      "\n",
      "1818809 :  When push comes to shove they are your normal lazy nap lovin felines. Also keep in mind that though they sleep for that long not all of that is a deep sleep. A lion sleeps sleeps for 18 to20 hours per day. When food is available and hunting successful they will sleep from 18 to 20 hours a day. Otherwise they will sleep less. Now in the wild food is sporadic. So we see them sleeping a LOT after successful hunts, which is where the information comes from.\n",
      "\n",
      "5445172 :  Which came first, dogs or cats? It's generally believed that dogs were domesticated long before cats. But recently, growing evidence reveals that cats and humans have lived in harmony throughout the ages. Most scientists agree that cats were domesticated by the ancient Egyptians about 6000 years ago.\n",
      "\n",
      "7555673 :  Western painting reached its zenith in Europe during the Renaissance, in conjunction with the refinement of drawing, use of perspective, ambitious architecture, tapestry, stained glass, sculpture, and the period before and after the advent of the printing press.eo-expressionism was a style of modern painting that became popular in the late 1970s and dominated the art market until the mid-1980s. It developed in Europe as a reaction against the conceptual and minimalistic art of the 1960s and 1970s.\n",
      "\n",
      "7935922 :  MissAmericanDream posted: [blockquote][b]ack28[/b] posted:[hr] There's a reason the lion is the king. Full grown Hyenas know not to F* with a male adult lion. [hr][/blockquote] Hyenas are pussies though. [hr][/blockquote] You're an idiot.\n",
      "\n",
      "6141785 :  1 Anaheim is 11 mi from John Wayne Airport (Orange, CA). 2  Right now, 25 airlines operate out of John Wayne Airport. 3  John Wayne Airport offers nonstop flights to 25 cities.  Every week, at least 1,981 domestic flights and 28 international flights depart from John Wayne Airport.\n",
      "\n",
      "1061360 :  The lion (Panthera leo) is one of the four big cats in the genus Panthera and a member of the family Felidae. With some males exceeding 250 kg (550 lb) in weight, it.\n",
      "\n",
      "4429069 :  English Â» Arabic dictionary with thousands of words and phrases. Reverso offers you the best tool for learning Arabic, the English Arabic dictionary containing commonly used words and expressions, along with thousands of English entries and their Arabic translation, added in the dictionary by our users.\n",
      "\n",
      "4823844 :  The lion (Panthera leo) is one of the five big cats in the genus Panthera and a member of the family Felidae.The commonly used term African lion collectively denotes the several subspecies found in Africa.With some males exceeding 250 kg (550 lb) in weight, it is the second-largest living cat after the tiger.he lion (Panthera leo) is one of the five big cats in the genus Panthera and a member of the family Felidae. The commonly used term African lion collectively denotes the several subspecies found in Africa. With some males exceeding 250 kg (550 lb) in weight, it is the second-largest living cat after the tiger.\n",
      "\n",
      "4648975 :  Lions live for approximately 10-14 years in the wild, while in captivity they can live to 25 years. Male lions only live about 10 years in the wild. Females live a little longer. About 16 years in the wild and about 25 to 30 years in captivity. Depends on the species of lion and where they live.\n",
      "\n",
      "7879660 :  The word tiger is taken from the Greek word tigris, which is possibly derived from a Persian source meaning arrow, a reference to the animal's speed and also the origin for the name of the Tigris river.\n",
      "\n",
      "4823843 :  Pride of Lions is a melodic rock group fronted by former Survivor guitarist/keyboardist Jim Peterik and vocalist Toby Hitchcock. Formed in 2003, the group, according to Peterik is my vision of the best elements of the great melodic rock era of the 80âs, updated of course with more modern production sounds..ride of Lions is a melodic rock group fronted by former Survivor guitarist/keyboardist Jim Peterik and vocalist Toby Hitchcock. Formed in 2003, the group, according to Peterik is my vision of the best elements of the great melodic rock era of the 80âs, updated of course with more modern production sounds..\n",
      "\n",
      "1061359 :  The mane of the adult male lion, unique among cats, is one of the most distinctive characteristics of the species. It may provide an excellent intimidation display; aiding the lion during confrontations with other lions.\n",
      "\n",
      "6141787 :  Lions (Panthera leo) are the largest of all African cats. They are the second largest cat species worldwide, smaller than only the tiger.Lions range in color from nearly white to tawny yellow, ash brown, ochre, and deep orange-brown.They have a tuft of dark fur at the tip of their tail.ions (Panthera leo) are the largest of all African cats. They are the second largest cat species worldwide, smaller than only the tiger.\n",
      "\n",
      "5165158 :  There is no actual species called a panther. It's just the name commonly given to melanistic leopards or jaguars-that is, leopards or jaguars with an excess of the dark pigment melanin, resulting in an almost totally black coat (the markings still show up against the background in the right light).he term black panther is most often applied to a melanistic (black coated) jaguar, but is also sometimes used to refer to a melanistic leopard. The term panther, by itself, is sometimes used to refer to leopard or jaguar, or to the Florida subspecies of cougar.\n",
      "\n",
      "2393144 :  Many lions in eastern Africa are also being lost to canine distemper. The last wild lion in Africa north of the Sahara was shot in Morocco in 1920. Where do lions live outside Africa? Lions were once far more widespread than they are today. In historic times they were found throughout much of southern Eurasia (map of the lion's former range). Anciently, they were also present in Greece and the Balkan Peninsula. For example, they are mentioned repeatedly in the Iliad.\n",
      "\n",
      "7879658 :  Bengal tiger (Panthera tigris tigris) 1  Endangered. 2  They can be found in India, Nepal, Bangladesh, Bhutan and Myanmar. 3  This subspecies has the most number of individuals but with a decreasing trend. It is estimated that its population is about 3,000 to 5,000 animals in the wild. 4  It is the national animal of India and Bangladesh.\n",
      "\n",
      "2111384 :  10) Land, bread, housing, education, clothing, justice, peace and community control of modern industry.â. The call for a revolutionary war against authority at the time of the Vietnam War, alerted the FBI to the Black Pantherâs activities. Whatever happened, the FBI was successful in destroying the Black Pantherâs movement.\n",
      "\n",
      "4823847 :  The Lion is the only cat that lives in large social groups, shares its territory, and regularly hunts together. The Lionâs diet consists of wildebeests, antelope, zebras, wild pigs, buffalo, impalas, and other hoofed mammals.ub mortality is very high in lions, and less than half will survive their first year. Young males will leave their pride between 2-4 years if they can get away with staying that long, but sometimes they are forced out as early as 13-20 months.\n",
      "\n",
      "3823943 :  He adds, that there is a third species in these countries, called the black tiger, of which we have given a figure under the appellation of the black cougar. The head is pretty similar to that of the common cougar; but the animal has long black hair, and likewise a long tail, with strong whiskers.\n",
      "\n",
      "4924557 :  Some people claim to have seen black cougars, which are sometimes referred to as Florida Panthers (despite the fact that they are not in the Panthera category) and thus extrapolate the term black panther, but Florida Panthers are always tan.\n",
      "\n",
      "343233 :  Lions live together in a pride based upon a group of related females (Lionesses) and their cubs. Surprisingly, the pride is led by a dominant female. When a new male joins a pride it will drive away the other males and kill any remaining cubs, then mate with the females to produce his own offspring.\n",
      "\n",
      "66284 :  Lions also rest about 20 hours a day. In a sense, they have the life of kings. They eat, drink and sleep and do away with pests. This is why lions are considered the kings of the jungle.I once saw a documentary on lions. At the end of this documentary a pride of lions was being attacked by a pack of hyenas. The hyenas were attacking the cubs; the lionesses were doing their best to keep the hyenas away, but the hyenas kept coming back.his is why lions are considered the kings of the jungle. I once saw a documentary on lions. At the end of this documentary a pride of lions was being attacked by a pack of hyenas. The hyenas were attacking the cubs; the lionesses were doing their best to keep the hyenas away, but the hyenas kept coming back.\n",
      "\n",
      "1144964 :  Some famous bearers of this name include: Leo Boivin, and Leo Delibes. In the U.S. in 2015, it ranked 91 in baby name popularity for boys with 4,561 occurrences. It ranked 9,797 in baby name popularity for girls with 11 occurrences.\n",
      "\n",
      "5154863 :  black panthers run 50 mph for 160 yards   That is incorrent. There is no 'black panther' than can run 50 mph. You just pulled that out of no where. There is no such thingâ¦ as a Black 'Panther.' There are black Leopards and black Jaguars. Leopards have been clocked at 36 mph.\n",
      "\n",
      "6293702 :  Black panthers have unique behaviors or habits which are different from those of other big cats or pet cats. black panther develops tree-climbing skills at a very early age to avoid attack from deadly enemies such as lions and hyenas. It also uses this unique skill to pull its kills or carcasses up to a tree. Signs and Vocalization. Â© Copyright 2007 - 2009, all rights reserved.\n",
      "\n",
      "1856591 :  Leos are an ambitious lot, and their strength of purpose allows them to accomplish a great deal. The fact that these folks are also creative makes their endeavors fun for them and everyone else. It's quite common to see a Leo on stage or in Hollywood, since these folks never shy away from the limelight.\n",
      "\n",
      "830811 :  In Genesis 49:9 there is no lion of Judah; rather, Judah is a lion. In 2 (4) Esdras 11:37; 12:1, 31 the Messiah is pictured as a lion, but not specifically of Judah. In the Testament of Judah 24:5 the Messiah is from Judah but not specifically as a lion.\n",
      "\n",
      "3295581 :  Jaguar ââ the third largest of the four big cats. It has a sturdy build and usually weights between 125 and 200 pounds. It can reach up to six feet long and stand at about 2 and half feet at the shoulder. Its coat has a tawny brown base and is covered with black rosette spots.\n",
      "\n",
      "924354 :  Many place the snow leopard within the genus Panthera, but there is currently no consensus as to whether the snow leopard should retain its own genus Uncia or be moved to Panthera uncia. Since 2008, the IUCN Red List lists it as Panthera uncia using Uncia uncia as a synonym.\n",
      "\n",
      "6388947 :  a leopard can't/doesn't change its spots (Definition of âleopardâ from the Cambridge Advanced Learnerâs Dictionary & Thesaurus Â© Cambridge University Press) leopard in American English\n",
      "\n",
      "5165157 :    The leopard and the jaguar: although these two cats look quite alike, there are differences namely:   1. The jaguar is a bit shorter in height but it's stockier and m â¦ ore muscular than the leopard. It has a broader and robust head than the leopard's. The jaguar's tail is shorter than a leopard's.he first thing is the spots. Jaguar spots are like black rings with spots inside of them. Leopard spots are just rings with no spots. Jaguar's are bigger than leopards, and s â¦ ometimes they can turn into darker brown or black cats with dark black ringed spots, even though the spots are hard to see.\n",
      "\n",
      "2786656 :  Life Cycle. Lion cubs are born blind, in litters of two to four. (Litters up to nine have been reported, but chances of more than four survivng are low, because the mother has just four teats.) They are typically about 1 foot (30.5 cm.) long and weigh about a pound (.45 Kg.).t consists typically of 4-20 females with their cubs, and typically, two or three males. The number of males in a pride can very from one to as many as seven. It is being found that two or males in the pride is the best situation for long-term survival.\n",
      "\n",
      "5923646 :  The plant life of this biome is grass and scattered trees, if there wasn't a dry season there would be more trees. The animals that live in this type of biome are african elephants, african wild dog, black mamba, caracal, chacma baboon, egyptian mongoose, emu, grant's zebra, koala bear, lion, ants, and Nile crocodile.\n",
      "\n",
      "2236504 :  Today, in captivity, a few surviving lion subspecies harbor remnants of Barbary Lion genes, so it may yet be possible to selectively breed this big cat and reintroduce it into the wild, a program known as de-extinction.\n",
      "\n",
      "1144965 :  Here are all the possible meanings and translations of the word LEO. Princeton's WordNet(0.00 / 0 votes)Rate this definition: Leo, Lion(noun) (astrology) a person who is born while the sun is in Leo. Leo(noun) a zodiacal constellation in northern hemisphere between Cancer and Virgo. Leo, Leo the Lion, Lion(noun) the fifth sign of the zodiac; the sun is in this sign from about July 23 to August 22. Leo(Noun) Someone with a Leo star sign.\n",
      "\n",
      "5847023 :  Tiger Eye or Tigerâs Eye is an iridescent gemstone. The name itself means a significance characteristic of a tiger. A tiger is known to be focused, has strong determination and it is patient.A tiger concentrates on its desires.He longs to attain it no matter how high the destination it may be.he name itself means a significance characteristic of a tiger. A tiger is known to be focused, has strong determination and it is patient. A tiger concentrates on its desires. He longs to attain it no matter how high the destination it may be.\n",
      "\n",
      "4924559 :  The black panther is the common name for a black specimen (a. genetic variant) of several species of cats. Zoologically, a panther is. the same as a leopard, while the term Panthera describes the whole. family of big cats.\n",
      "\n",
      "7575212 :  In this section, Anna transforms a deadly snarling black leopard into a relaxed content cat. The amazing story of how leopard Diabolo became Spirit... Follow us @\n",
      "\n",
      "3974738 :  Definition of lion for English Language Learners. : 1  a large wild cat that has golden brown fur and that lives mainly in Africa. : 2  a very important, powerful, or successful person.\n",
      "\n",
      "689626 :  Pictures of our Panthers. Many people believe that there is one animal that is called a black panther. Really, the term black panther is refering to a melanistic (black) member of the Panthera family, or big cats.\n",
      "\n",
      "689628 :  Their are no big black cats that live in North America, we have no wild black panthers. The dark color of the panthers is advantageous for them to hide in the dark forest or jungle and to hunt at night. Commonly, leopards and jaguars are a golden yellow with black spots.\n",
      "\n",
      "7157620 :  late 12c., from Old French lion lion, figuratively hero, from Latin leonem (nominative leo) lion; the constellation leo, from Greek leon (genitive leontos), from a non-Indo-European language, perhaps Semitic (cf. Hebrew labhi lion, plural lebaim; Egyptian labai, lawai lioness).\n",
      "\n",
      "4032558 :  What is the name of the panther in the Jungle Book? Quick Answer. In Rudyard Kipling's The Jungle Book, the name of the panther is Bagheera. This character takes pity on the child Mowgli when Mother Wolf and Father Wolf of the Seeonee wolf pack are fighting to keep him, so Bagheera offers to sponsor Mowgli.\n",
      "\n",
      "2291469 :  Quick Answer. Adult male mountain lions usually weigh between 110 and 180 pounds, while females typically weigh between 80 and 130 pounds. In rare cases, a mountain lion may exceed 200 pounds. The mountain lion is an adaptable predator and ranges from Canada to South America. Continue Reading\n",
      "\n",
      "7575205 :  Download Multilizer PDF Translator Free. Now you can translate PDF documents easily, quickly and for free! If you are looking for a quick, easy, understandable and readable translation, Multilizer PDF Translator is the right solution for you.\n",
      "\n",
      "4032560 :  When Mowgli is found, Bagheera buys Mowgli's life with a freshly-killed bull and helps to raise him as one of the pack. A Black Panther who first finds Mowgli, they become good friends. Voiced by Sebastian Cabot in English and Luis Manuel Pelayo in Spanish. The Panther was portrayed as a clever, serious and responsible character. During the movie, Bagheera often argues with Baloo, for he knows that as long as Shere Khan is in the jungle, the jungle is not safe for Mowgli despite all attempts of the bear to protect him. jpdi_87 Â· 9 years ago.\n",
      "\n",
      "599164 :  2 Share. Newsfront. Scorching heat has put temperatures as high as 165 degrees in the Middle East, as a heat dome passes its way through the region. That was one of the most incredible temperature observations I have ever seen-and it is one of the most extreme readings ever in the world, ... mideast, heat, 165F, highest, recorded.\n",
      "\n",
      "2838275 :  This visit gives your child an opportunity to meet the dentist in a non-threatening and friendly way. Depending on the childâs age some dentists may ask the parent to sit in the dental chair and hold their child during the examination.\n",
      "\n",
      "4032555 :  Anna sets off on an epic journey - teaming up with mountain man Kristoff and his loyal reindeer Sven - to find her sister Elsa.\n",
      "\n",
      "4924558 :  The black panther is the common name for a black specimen (a melanistic variant) of any of several species of cats. Zoologically speaking, the term panther is synonymous with leopard. The genus name Panthera is a taxonomic category that contains all the species of a particular group of felids.\n",
      "\n",
      "839369 :  Everyone can help. Throughout the year, Lions, Leos and other volunteers collect used eyeglasses and deliver them to regional Lions Eyeglass Recycling Centers (LERCs) . LERC volunteers clean, sort by prescription strength and package the glasses.\n",
      "\n",
      "7662391 :  Scientists look for the markings as an indication that panthers are in the area so the panthers can be protected. What Kind of Tracks Do They Make? A panther track is about the size of a softball, unlike the common house cat that has a paw print about the size of a quarter. A panther has five toes on both its front and rear feet.\n",
      "\n",
      "1009198 :  Facts on Baby Cougars. Cougars, also called mountain lions, pumas and panthers, are solitary cats found throughout much of North and South America. Interaction between cougars generally only occurs during mating and between a female and her babies. Baby cougars are called cubs or kittens and remain with their mother for up to the first two years of their lives. A cougar's lifespan is approximately 10 years in the wild.\n",
      "\n",
      "6233094 :  by Naveen. Cougar vs Mountain Lion. Cougar and mountain lion could be confusing, especially in referring to them. Therefore, a proper understanding is necessary about these names and the differences between them would be important to be aware of if there are any.y Naveen. Cougar vs Mountain Lion. Cougar and mountain lion could be confusing, especially in referring to them. Therefore, a proper understanding is necessary about these names and the differences between them would be important to be aware of if there are any.\n",
      "\n",
      "4047250 :  snow leopard. n. (Animals) a large feline mammal, Panthera uncia, of mountainous regions of central Asia, closely related to the leopard but having a long pale brown coat marked with black rosettes. Also called: ounce.\n",
      "\n",
      "3164409 :  In the morning, the panther-described as a black mountain lion lay dead on her porch. This illustration of a âBlack Puma, Felis Nigraâ is a watercolor drawing by James Hope Stewart published in 1843 in âThe Naturalistâs Library, Mammalia, Vol. 1, Catsâ by Sir William Jardine.\n",
      "\n",
      "7757777 :  The Bengal tiger is considered to be the second largest species of tiger, although recent reports suggest that the Bengal tiger is on average, larger than the Siberian tiger. The Bengal tiger has a yellow or light orange coat, with black or dark brown stripes and a white belly.fter a gestation period of 3 to 4 months, the female Bengal tiger gives birth to up to 5 cubs. Newborn Bengal tiger cubs weigh about 1 kg (2 lb) and are blind and helpless. The mother feeds them milk for about 2 months and then the Bengal tiger cubs are introduced to meat.\n",
      "\n",
      "3558086 :  Panthers are type of wild cats that inhabit America, Asia and Africa. They can be found in rainforests, swamps, savannas, mountains and even deserts. Panther looks like a leopard without dots. It has yellow or dark brown fur and emerald eyes.\n",
      "\n",
      "4355761 :  All domestic dogs, including pitbulls, belong to the same subspecies: Kingdom: Animalia Phylum: Chordata Class: Mammalia Order: Carnivors Family: Canidae Genus: Ca â¦ nis Species: C. lupus Subspecies: C. l. familiaris.4 people found this useful. Kingdom Animalia (includes all animals). 2  Phylum Chordata (includes all vertebrate animals, as well as some other more primitive ones). 3  Class Mammalia (includes all mammals). 4  Order Carnivora (includes carnivorous-meat eating-mammals, from bears to raccoons to harbor seals).\n",
      "\n",
      "5816834 :  Alligators can have up to 80 teeth in their mouths at one time. These teeth are renewable throughout their life! Alligators can go through as many as 3,000 teeth in their lifetime! They lose teeth on a daily basis. Most of the time this happens when they are eating.\n",
      "\n",
      "1856592 :  Leo Characteristics and Profile. The Lion is considered the king of the jungle, and likewise you Leos have an air of royalty about you. Some Leos even have hair resembling the thick mane of the Lion. But Lions are more than roar, for they are truly magnificent beasts.\n",
      "\n",
      "1144962 :  Shift work often requires nurses to arrive and leave hospitals during darkness, increasing the risk of assault. Additionally, nursing is a female-dominated profession that has not been considered as dangerous as traditionally male-dominated professions, such as law enforcement or emergency medical response.\n",
      "\n",
      "6432904 :  Firstly, leopard and panther are two names for the same animal. Jaguars are far behind leopards and tigers as their full speed is around 50 km/h when leopards and tigers' is around 60 km/h. From my point of view, I think that leopard is faster than the tiger.\n",
      "\n",
      "4047246 :  Click here for leopard facts. 1  Scientific name for a snow leopard is unica unica. 2  A male snow leopard is called a leopard. 3  A female is called a leopardess.  A baby is called a 1  cub. Snow Leopards like steep, rocky terrain.\n",
      "\n",
      "5721588 :  These intimidating animals mark the area with urine, roar menacingly to warn intruders, and chase off animals that encroach on their turf. Female lions are the pride's primary hunters. They often work together to prey upon antelopes, zebras, wildebeest, and other large animals of the open grasslands.Many of these animals are faster than lions, so teamwork pays off.ize relative to a 6-ft (2-m) man: Lions are the only cats that live in groups, which are called prides. Prides are family units that may include up to three males, a dozen or so females, and their young. All of a pride's lionesses are related, and female cubs typically stay with the group as they age.\n",
      "\n",
      "635741 :  The tiger (Panthera tigris) is the largest cat species, reaching a total body length of up to 3.38 m (11.1 ft) over curves and exceptionally weighing up to 388.7 kg (857 lb) in the wild. Its most recognisable feature is a pattern of dark vertical stripes on reddish-orange fur with a lighter underside.\n",
      "\n",
      "66282 :  These lions are probably more fitting of the title king of the jungle than their African cousins, but equally there are other majestic top predators, like tigers, that could also be considered deserving of the title. Source(s):I used to be a zookeeper and have studied animals all my life.Click to expand...hese lions are probably more fitting of the title king of the jungle than their African cousins, but equally there are other majestic top predators, like tigers, that could also be considered deserving of the title. Source(s):\n",
      "\n",
      "2084606 :  Keyword: I WILL. If youâre due to have a Leo baby, prepare to move over and make room for this new center of the universe. Yes, we know that all precious babies are the centers of their parentsâ universe, but the kingly lion is truly the center of the universe (including his or her own).\n",
      "\n",
      "7879663 :  (redirected from Panthera tigris) Also found in: Dictionary, Thesaurus, Medical, Encyclopedia, Wikipedia. Related to Panthera tigris: tiger\n",
      "\n",
      "7662394 :  Panther can survive in areas populated with humans better than other cats. Panther can leap up to 20 feet. They have excellent eyesight and sense of hearing. In the wild, panthers can live up to 12 years and in captivity up to 20.\n",
      "\n",
      "2996932 :  Lions (Panthera leo) are the largest of all African cats. They are the second largest cat species worldwide, smaller than only the tiger. Lions range in color from nearly white to tawny yellow, ash brown, ochre, and deep orange-brown. They have a tuft of dark fur at the tip of their tail.\n",
      "\n",
      "2006820 :  Lion facts about its diet include mammals of all sizes. Lions are carnivorous and they primarily eat medium-sized as well as large sized mammals including impalas, zabras, buffalo, warthogs, wild boar, deer, and wildebeest. Lions are also known to eat kudu, eland, gemsbok, hartebeest, springbok, Thomsonâs gazelle, and giraffes.\n",
      "\n",
      "3440576 :  Males and females take on very different roles in the pride. Male lions spend their time guarding their territory and their cubs. They maintain the boundaries of their territory, which can be as large as 260 sq. km (100 sq. mi.), by roaring, marking it with urine, and chasing off intruders.\n",
      "\n",
      "6861184 :  Genus vs Species. Although both genus and species are referred to state a particular animal or plant or any organism, there are differences between the two that anyone should know. In biological classification, the genus comes first followed by species, and the species is never stated alone.\n",
      "\n",
      "6141788 :  Scientific Name: Panthera leo. The lion is one of the four big cats in the genus Panthera and a member of the family Felidae. The catâs closest relatives are the other species of the genus Panthera: the tiger, the jaguar, and the leopard.Panthera leo appears to have evolved in Africa between 1 million and 800,000 years ago, before spreading throughout the Northern Hemisphere. It is the second-largest wild cat after the tiger.ince then it evolved into what is known as the true Cave Lion (Panthera leo spelaea) which, during the last 60,000 years, became extinct, probably due to a combination of climate change and over-hunting by humans.\n",
      "\n",
      "5941429 :  Personality: A Leo person is ruled by the Sun which is also a source of energy for us. A Leo person shows resemblance to the nature of the Lion. They are dominant and like to be leader. They are naturally brave and like to play with challenges in life. They are creative, determinant and ambitious.\n",
      "\n",
      "1074234 :  Humans, of course, are Homo sapiens. The full classification for a lion would be: Kingdom, Animalia (animals); Phylum, Chordata (vertebrate animals); Class, Mammalia (mammals); Order, Carnivora (meat eaters); Family, Felidae (all cats); Genus, Panthera (great cats); Species, leo (lions).cientific Classification. Classification, or taxonomy, is a system of categorizing living things. There are seven divisions in the system: (1) Kingdom; (2) Phylum or Division; (3) Class; (4) Order; (5) Family; (6) Genus; (7) Species. Kingdom is the broadest division.\n",
      "\n",
      "839367 :  Lions do not allow other carnivores (meat-eating animals) to hunt in their territory. A territory can be as large as 260 square kilometres (100 square miles). The lions roar is distinct to each individual, and is used for territorial making, and warning off other lions in separate prides (or lone individuals).\n",
      "\n",
      "3164406 :  It crossed about 100 yards in only a few seconds. When I told my dad about it, he told me he saw a black panther years ago in the same area, and my mom told me about her dad who heard cougar screams one night. So yes, I do believe black panthers inhabit North America.\n",
      "\n",
      "2996935 :  Lions (Panthera leo) are the largest of all African cats. They are the second largest cat species worldwide, smaller than only the tiger. Lions range in color from nearly white to tawny yellow, ash brown, ochre, and deep orange-brown.\n",
      "\n",
      "2961556 :  Taxonomically, the snow leopard has been classified as Uncia uncia since the early 1930s. Based on genotyping studies, the cat has been considered a member of the genus Panthera since 2008. Two subspecies have been attributed, but genetic differences between the two have not been settled.\n",
      "\n",
      "5165151 :  A black panther is actually not a panther it is either a leopard or a jaguar with the recessive gene of melconism. Melconism causes the skin and the fur of an animal turn dark â¦ . Whereas melonism or albinoism causes the animal to have no pigment at all.7 people found this useful.amily: Felidae Genus: Felis concolor. The term panther, is a generic term used to describe several large cats. The leopard, cougar, and jaguar are all called panthers by some. There is no species called panther in itself.\n",
      "\n",
      "1144969 :  usage note. When it refers to the zodiac sign, the plural of âleoâ is âleoâ or âleos.â The adjective leo is invariable, which means its form does not change according to the gender or number of the noun it describes. Leo.\n",
      "\n",
      "2034721 :  The direct ancestors of snow leopards were the other Asian leopards that live in the lowlands. It must have taken hundreds of generations for the leopards to fully adapt to the extreme conditions in which the snow leopards live today.he direct ancestors of snow leopards were the other Asian leopards that live in the lowlands. It must have taken hundreds of generations for the leopards to fully adapt to the extreme conditions in which the snow leopards live today.\n",
      "\n",
      "1144971 :  Leo nnoun: Refers to person, place, thing, quality, etc. (constellation: Lion) (constelaciÃ³n) Leo n propio fnombre propio femenino: Nombre de persona, lugar, grupo, evento, objeto o idea, de gÃ©nero femenino (Pilar, Francia, Navidad). Siempre comienza con mayÃºscula.\n",
      "\n"
     ]
    }
   ],
   "source": [
    "import time\n",
    "query = \"panthera leo\"\n",
    "start = time.time()\n",
    "result = semantic_search(query)\n",
    "end = time.time()\n",
    "\n",
    "print(\"Query :: \", query)\n",
    "print(\"Took \", end-start, \"s for the query\")\n",
    "\n",
    "for pid in result:\n",
    "    print(str(pid)+\" : \", d.fetchPassageContent(pid))\n",
    "    print()"
   ]
  },
  {
   "cell_type": "markdown",
   "metadata": {},
   "source": [
    "# Nearest Neighbour Search"
   ]
  },
  {
   "cell_type": "code",
   "execution_count": 21,
   "metadata": {},
   "outputs": [
    {
     "data": {
      "text/html": [
       "<style>#sk-container-id-1 {color: black;background-color: white;}#sk-container-id-1 pre{padding: 0;}#sk-container-id-1 div.sk-toggleable {background-color: white;}#sk-container-id-1 label.sk-toggleable__label {cursor: pointer;display: block;width: 100%;margin-bottom: 0;padding: 0.3em;box-sizing: border-box;text-align: center;}#sk-container-id-1 label.sk-toggleable__label-arrow:before {content: \"▸\";float: left;margin-right: 0.25em;color: #696969;}#sk-container-id-1 label.sk-toggleable__label-arrow:hover:before {color: black;}#sk-container-id-1 div.sk-estimator:hover label.sk-toggleable__label-arrow:before {color: black;}#sk-container-id-1 div.sk-toggleable__content {max-height: 0;max-width: 0;overflow: hidden;text-align: left;background-color: #f0f8ff;}#sk-container-id-1 div.sk-toggleable__content pre {margin: 0.2em;color: black;border-radius: 0.25em;background-color: #f0f8ff;}#sk-container-id-1 input.sk-toggleable__control:checked~div.sk-toggleable__content {max-height: 200px;max-width: 100%;overflow: auto;}#sk-container-id-1 input.sk-toggleable__control:checked~label.sk-toggleable__label-arrow:before {content: \"▾\";}#sk-container-id-1 div.sk-estimator input.sk-toggleable__control:checked~label.sk-toggleable__label {background-color: #d4ebff;}#sk-container-id-1 div.sk-label input.sk-toggleable__control:checked~label.sk-toggleable__label {background-color: #d4ebff;}#sk-container-id-1 input.sk-hidden--visually {border: 0;clip: rect(1px 1px 1px 1px);clip: rect(1px, 1px, 1px, 1px);height: 1px;margin: -1px;overflow: hidden;padding: 0;position: absolute;width: 1px;}#sk-container-id-1 div.sk-estimator {font-family: monospace;background-color: #f0f8ff;border: 1px dotted black;border-radius: 0.25em;box-sizing: border-box;margin-bottom: 0.5em;}#sk-container-id-1 div.sk-estimator:hover {background-color: #d4ebff;}#sk-container-id-1 div.sk-parallel-item::after {content: \"\";width: 100%;border-bottom: 1px solid gray;flex-grow: 1;}#sk-container-id-1 div.sk-label:hover label.sk-toggleable__label {background-color: #d4ebff;}#sk-container-id-1 div.sk-serial::before {content: \"\";position: absolute;border-left: 1px solid gray;box-sizing: border-box;top: 0;bottom: 0;left: 50%;z-index: 0;}#sk-container-id-1 div.sk-serial {display: flex;flex-direction: column;align-items: center;background-color: white;padding-right: 0.2em;padding-left: 0.2em;position: relative;}#sk-container-id-1 div.sk-item {position: relative;z-index: 1;}#sk-container-id-1 div.sk-parallel {display: flex;align-items: stretch;justify-content: center;background-color: white;position: relative;}#sk-container-id-1 div.sk-item::before, #sk-container-id-1 div.sk-parallel-item::before {content: \"\";position: absolute;border-left: 1px solid gray;box-sizing: border-box;top: 0;bottom: 0;left: 50%;z-index: -1;}#sk-container-id-1 div.sk-parallel-item {display: flex;flex-direction: column;z-index: 1;position: relative;background-color: white;}#sk-container-id-1 div.sk-parallel-item:first-child::after {align-self: flex-end;width: 50%;}#sk-container-id-1 div.sk-parallel-item:last-child::after {align-self: flex-start;width: 50%;}#sk-container-id-1 div.sk-parallel-item:only-child::after {width: 0;}#sk-container-id-1 div.sk-dashed-wrapped {border: 1px dashed gray;margin: 0 0.4em 0.5em 0.4em;box-sizing: border-box;padding-bottom: 0.4em;background-color: white;}#sk-container-id-1 div.sk-label label {font-family: monospace;font-weight: bold;display: inline-block;line-height: 1.2em;}#sk-container-id-1 div.sk-label-container {text-align: center;}#sk-container-id-1 div.sk-container {/* jupyter's `normalize.less` sets `[hidden] { display: none; }` but bootstrap.min.css set `[hidden] { display: none !important; }` so we also need the `!important` here to be able to override the default hidden behavior on the sphinx rendered scikit-learn.org. See: https://github.com/scikit-learn/scikit-learn/issues/21755 */display: inline-block !important;position: relative;}#sk-container-id-1 div.sk-text-repr-fallback {display: none;}</style><div id=\"sk-container-id-1\" class=\"sk-top-container\"><div class=\"sk-text-repr-fallback\"><pre>NearestNeighbors(metric=&#x27;euclidean&#x27;, n_neighbors=100)</pre><b>In a Jupyter environment, please rerun this cell to show the HTML representation or trust the notebook. <br />On GitHub, the HTML representation is unable to render, please try loading this page with nbviewer.org.</b></div><div class=\"sk-container\" hidden><div class=\"sk-item\"><div class=\"sk-estimator sk-toggleable\"><input class=\"sk-toggleable__control sk-hidden--visually\" id=\"sk-estimator-id-1\" type=\"checkbox\" checked><label for=\"sk-estimator-id-1\" class=\"sk-toggleable__label sk-toggleable__label-arrow\">NearestNeighbors</label><div class=\"sk-toggleable__content\"><pre>NearestNeighbors(metric=&#x27;euclidean&#x27;, n_neighbors=100)</pre></div></div></div></div></div>"
      ],
      "text/plain": [
       "NearestNeighbors(metric='euclidean', n_neighbors=100)"
      ]
     },
     "execution_count": 21,
     "metadata": {},
     "output_type": "execute_result"
    }
   ],
   "source": [
    "nn_model = NearestNeighbors(n_neighbors=100, metric='euclidean')\n",
    "nn_model.fit(corpus_embeddings)"
   ]
  },
  {
   "cell_type": "code",
   "execution_count": null,
   "metadata": {},
   "outputs": [],
   "source": [
    "def nearestNeighbourSearch(input_question, k=100):\n",
    "    relevant_docs = executeBM25(input_question)\n",
    "    relevant_embeddings = []\n",
    "    for doc in relevant_docs:\n",
    "        content = d.fetchPassageContent(doc)\n",
    "        user_query_embedding = sentence_transformer_model.encode([content])[0]\n",
    "        relevant_embeddings.append(user_query_embedding)\n",
    "    distances, indices = nn_model.kneighbors(relevant_embeddings, n_neighbors=k)\n",
    "    return indices[0]\n"
   ]
  },
  {
   "cell_type": "code",
   "execution_count": null,
   "metadata": {},
   "outputs": [],
   "source": [
    "result = nearestNeighbourSearch(\"animals cages\")\n",
    "for pid in result:\n",
    "    print(str(pid)+\" : \")\n",
    "    print(d.fetchPassageContent(pid))\n",
    "    print()"
   ]
  },
  {
   "cell_type": "markdown",
   "metadata": {},
   "source": [
    "# Evaluating Semantic Search"
   ]
  },
  {
   "cell_type": "code",
   "execution_count": null,
   "metadata": {},
   "outputs": [],
   "source": [
    "import pandas as pd\n",
    "\n",
    "queries = pd.read_csv(queries_path, delimiter='\\t', header=None, names=['qid', 'query'])\n",
    "top100 = pd.read_csv(top100_path, delimiter='\\t', header=None, names=['qid', 'pid', 'query', 'passage'])\n",
    "qrels = pd.read_csv(qrels_path, delimiter=' ', header=None, names=['qid', 'Q0', 'docid', 'rating'])\n"
   ]
  },
  {
   "cell_type": "code",
   "execution_count": null,
   "metadata": {},
   "outputs": [],
   "source": [
    "def evaluate_semantic_search():\n",
    "    precision_scores = []\n",
    "    recall_scores = []\n",
    "    f1_scores = []\n",
    "\n",
    "    for qid, group in top100.groupby('qid'):\n",
    "        query = group['query'].tolist()[0]\n",
    "        # print(query)\n",
    "\n",
    "        relevant_documents = {x + 1 for x in set(group['pid'].tolist()) if x + 1 < 7999999}\n",
    "\n",
    "        retrived_docs = semantic_search(query, 1000)\n",
    "\n",
    "        retrieved_documents = set(retrived_docs)\n",
    "        # print(relevant_documents)\n",
    "        # print(retrieved_documents)\n",
    "\n",
    "        true_positive = len(retrieved_documents.intersection(relevant_documents))\n",
    "        false_positive = len(retrieved_documents - relevant_documents)\n",
    "        false_negative = len(relevant_documents - retrieved_documents)\n",
    "\n",
    "        precision = true_positive / (true_positive + false_positive) if (true_positive + false_positive) > 0 else 0\n",
    "        recall = true_positive / (true_positive + false_negative) if (true_positive + false_negative) > 0 else 0\n",
    "        f1 = 2 * (precision * recall) / (precision + recall) if (precision + recall) > 0 else 0\n",
    "        # print(precision, recall, f1)\n",
    "        precision_scores.append(precision)\n",
    "        recall_scores.append(recall)\n",
    "        f1_scores.append(f1)\n",
    "        # print(true_positive, false_positive, false_negative)\n",
    "\n",
    "    average_precision = sum(precision_scores) / len(precision_scores)\n",
    "    average_recall = sum(recall_scores) / len(recall_scores)\n",
    "    average_f1 = sum(f1_scores) / len(f1_scores)\n",
    "\n",
    "    print(\"Average Precision:\", average_precision)\n",
    "    print(\"Average Recall:\", average_recall)\n",
    "    print(\"Average F1 Score:\", average_f1)\n",
    "\n",
    "evaluate_semantic_search()\n"
   ]
  },
  {
   "cell_type": "markdown",
   "metadata": {},
   "source": [
    "# Diversity@K"
   ]
  },
  {
   "cell_type": "code",
   "execution_count": null,
   "metadata": {},
   "outputs": [],
   "source": [
    "def diversity_at_k(top_k_documents):\n",
    "    num_documents = len(top_k_documents)\n",
    "    diversity_scores = []\n",
    "\n",
    "    for i in range(num_documents):\n",
    "        for j in range(i + 1, num_documents):\n",
    "            embedding_i = corpus_embeddings[top_k_documents[i]]\n",
    "            embedding_j = corpus_embeddings[top_k_documents[j]]\n",
    "            similarity = cosine_similarity(embedding_i.reshape(1, -1), embedding_j.reshape(1, -1))[0, 0]\n",
    "            diversity_scores.append(1 - similarity)\n",
    "\n",
    "    diversity_at_k = sum(diversity_scores) / len(diversity_scores)\n",
    "    return diversity_at_k\n",
    "\n"
   ]
  },
  {
   "cell_type": "code",
   "execution_count": null,
   "metadata": {},
   "outputs": [],
   "source": [
    "def query_passage_similarity(query, pid):\n",
    "    embedding_i = get_embedding(query)\n",
    "    embedding_j = corpus_embeddings[pid]\n",
    "    similarity = cosine_similarity(embedding_i.reshape(1, -1), embedding_j.reshape(1, -1))[0, 0]\n",
    "    return similarity"
   ]
  },
  {
   "cell_type": "code",
   "execution_count": 1,
   "metadata": {},
   "outputs": [
    {
     "ename": "NameError",
     "evalue": "name 'queries' is not defined",
     "output_type": "error",
     "traceback": [
      "\u001b[0;31m---------------------------------------------------------------------------\u001b[0m",
      "\u001b[0;31mNameError\u001b[0m                                 Traceback (most recent call last)",
      "Cell \u001b[0;32mIn [1], line 3\u001b[0m\n\u001b[1;32m      1\u001b[0m diversity_sum \u001b[38;5;241m=\u001b[39m \u001b[38;5;241m0\u001b[39m\n\u001b[1;32m      2\u001b[0m diversity_data \u001b[38;5;241m=\u001b[39m []\n\u001b[0;32m----> 3\u001b[0m q \u001b[38;5;241m=\u001b[39m \u001b[43mqueries\u001b[49m\u001b[38;5;241m.\u001b[39miterrows()\n",
      "\u001b[0;31mNameError\u001b[0m: name 'queries' is not defined"
     ]
    }
   ],
   "source": [
    "diversity_sum = 0\n",
    "diversity_data = []\n",
    "q = queries.iterrows()"
   ]
  },
  {
   "cell_type": "code",
   "execution_count": null,
   "metadata": {},
   "outputs": [],
   "source": [
    "\n",
    "\n",
    "for index, query in q:\n",
    "    search_result = semantic_search(query['query'])\n",
    "    diversity_score = diversity_at_k(search_result)\n",
    "    query_similarity = query_passage_similarity(query['query'], search_result[0])\n",
    "    diversity_data.append({\"qid\": query['qid'], \"query\": query['query'],\n",
    "                            \"diversity_score\": diversity_score, \"query_similarity\": query_similarity})\n",
    "    diversity_sum+=diversity_score\n",
    "    print(query, diversity_score, query_similarity)"
   ]
  },
  {
   "cell_type": "code",
   "execution_count": null,
   "metadata": {},
   "outputs": [],
   "source": [
    "diversity_data"
   ]
  },
  {
   "cell_type": "code",
   "execution_count": null,
   "metadata": {},
   "outputs": [],
   "source": [
    "print(\"Diversity@K average \", diversity_sum/len(queries))"
   ]
  }
 ],
 "metadata": {
  "kernelspec": {
   "display_name": "Python 3",
   "language": "python",
   "name": "python3"
  },
  "language_info": {
   "codemirror_mode": {
    "name": "ipython",
    "version": 3
   },
   "file_extension": ".py",
   "mimetype": "text/x-python",
   "name": "python",
   "nbconvert_exporter": "python",
   "pygments_lexer": "ipython3",
   "version": "3.10.9"
  }
 },
 "nbformat": 4,
 "nbformat_minor": 2
}
