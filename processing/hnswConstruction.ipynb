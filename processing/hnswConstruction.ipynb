{
 "cells": [
  {
   "cell_type": "code",
   "execution_count": null,
   "metadata": {},
   "outputs": [],
   "source": [
    "import pickle\n",
    "from sentence_transformers import SentenceTransformer\n",
    "import pickle\n",
    "import hnswlib\n",
    "import torch\n",
    "\n",
    "model_name = 'all-MiniLM-L6-v2'\n",
    "sentence_transformer_model = SentenceTransformer(model_name)"
   ]
  },
  {
   "cell_type": "code",
   "execution_count": null,
   "metadata": {},
   "outputs": [],
   "source": [
    "# The first time, intialize the HNSW space. Do not run this again and again. This is a 1 time cell.\n",
    "# num_elements, embedding_dim = 7999999, 384\n",
    "# p = hnswlib.Index(space='cosine', dim=embedding_dim)\n",
    "# p.init_index(max_elements=num_elements, ef_construction=100, M=16)\n",
    "# p.save_index('hnsw_index_all.bin')"
   ]
  },
  {
   "cell_type": "code",
   "execution_count": null,
   "metadata": {},
   "outputs": [],
   "source": [
    "num_elements, embedding_dim = 7999999, 384\n",
    "p = hnswlib.Index(space='cosine', dim=embedding_dim)\n",
    "p.load_index(\"hnsw_index_all.bin\")"
   ]
  },
  {
   "cell_type": "code",
   "execution_count": null,
   "metadata": {},
   "outputs": [],
   "source": [
    "# Load the embeddings into HNSW space\n",
    "for i in range(40):\n",
    "    filename = \"./embeddings/corpus_embeddings_\" + str(i)\n",
    "    with open(filename, 'rb') as f:\n",
    "        embedding = pickle.load(f)\n",
    "        embedding = torch.tensor(embedding)\n",
    "        num_elements, embedding_dim = embedding.shape\n",
    "        p.add_items(embedding)\n",
    "        p.save_index('hnsw_index_all.bin')\n",
    "        print(i, \" done. Dimensions :: \", num_elements, embedding_dim)"
   ]
  },
  {
   "cell_type": "markdown",
   "metadata": {},
   "source": [
    "Check the file hnsw_index_all.bin in the same directory."
   ]
  }
 ],
 "metadata": {
  "language_info": {
   "name": "python"
  }
 },
 "nbformat": 4,
 "nbformat_minor": 2
}
