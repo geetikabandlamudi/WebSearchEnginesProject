{
 "cells": [
  {
   "cell_type": "code",
   "execution_count": 2,
   "metadata": {},
   "outputs": [],
   "source": [
    "import tensorflow as tf\n",
    "import pickle\n",
    "import time\n",
    "import numpy as np\n",
    "from sentence_transformers import SentenceTransformer, util\n",
    "import pickle\n",
    "from collections import namedtuple\n",
    "from datetime import datetime\n",
    "import numpy as np\n",
    "import tensorflow as tf\n",
    "import tensorflow_hub as hub\n",
    "import hnswlib\n",
    "import subprocess\n",
    "import torch\n",
    "from getPassageFromPID import DocContentManager"
   ]
  },
  {
   "cell_type": "code",
   "execution_count": 20,
   "metadata": {},
   "outputs": [
    {
     "name": "stderr",
     "output_type": "stream",
     "text": [
      "C:\\Users\\asg41\\AppData\\Local\\Temp\\ipykernel_16628\\2254235322.py:5: UserWarning: To copy construct from a tensor, it is recommended to use sourceTensor.clone().detach() or sourceTensor.clone().detach().requires_grad_(True), rather than torch.tensor(sourceTensor).\n",
      "  corpus_embeddings = torch.tensor(corpus_embeddings)\n"
     ]
    }
   ],
   "source": [
    "sentence_transformer_model = SentenceTransformer('all-MiniLM-L6-v2')\n",
    "\n",
    "with open('.\\\\combined_corpus_embeddings\\\\combined_corpus_embeddings', 'rb') as file:\n",
    "    corpus_embeddings = pickle.load(file)\n",
    "    corpus_embeddings = torch.tensor(corpus_embeddings)\n",
    "d = DocContentManager()"
   ]
  },
  {
   "cell_type": "code",
   "execution_count": 25,
   "metadata": {},
   "outputs": [
    {
     "name": "stdout",
     "output_type": "stream",
     "text": [
      "[6028962, 5404297, 574269, 7939951, 8604281, 7652173, 1419328, 7754005, 4145286, 2707791, 3534084, 2197889, 3340638, 1094854, 4380247, 1419326, 4114244, 2999462, 5739129, 5896207, 8589064, 5424813, 4380253, 1049755, 7754003]\n"
     ]
    }
   ],
   "source": [
    "query = input(\"Enter your query: \")\n",
    "\n",
    "cpp_executable_path = '.\\\\bm25.exe' \n",
    "command = [cpp_executable_path, query]\n",
    "process = subprocess.run(command, capture_output=True, text=True)\n",
    "\n",
    "relavant_docs = []\n",
    "\n",
    "if process.returncode == 0:\n",
    "    output_lines = process.stdout.strip().split('\\n')\n",
    "\n",
    "    # Process each line of output\n",
    "    for line in output_lines:\n",
    "        pid = int(line)\n",
    "        relavant_docs.append(pid)\n",
    "        #print(pid)\n",
    "        #print(d.fetchPassageContent(pid))\n",
    "    #print(process.stderr)\n",
    "else:\n",
    "    print(\"Error:\", process.stderr)\n",
    "\n",
    "print(relavant_docs)"
   ]
  },
  {
   "cell_type": "code",
   "execution_count": 26,
   "metadata": {},
   "outputs": [
    {
     "ename": "IndexError",
     "evalue": "index 8604281 is out of bounds for dimension 0 with size 7999999",
     "output_type": "error",
     "traceback": [
      "\u001b[1;31m---------------------------------------------------------------------------\u001b[0m",
      "\u001b[1;31mIndexError\u001b[0m                                Traceback (most recent call last)",
      "Cell \u001b[1;32mIn[26], line 3\u001b[0m\n\u001b[0;32m      1\u001b[0m query_embeddings \u001b[38;5;241m=\u001b[39m []\n\u001b[0;32m      2\u001b[0m \u001b[38;5;28;01mfor\u001b[39;00m i \u001b[38;5;129;01min\u001b[39;00m relavant_docs:\n\u001b[1;32m----> 3\u001b[0m     query_embeddings\u001b[38;5;241m.\u001b[39mappend(\u001b[43mcorpus_embeddings\u001b[49m\u001b[43m[\u001b[49m\u001b[43mi\u001b[49m\u001b[43m]\u001b[49m)\n\u001b[0;32m      5\u001b[0m final_passages \u001b[38;5;241m=\u001b[39m []\n\u001b[0;32m      6\u001b[0m hits \u001b[38;5;241m=\u001b[39m util\u001b[38;5;241m.\u001b[39msemantic_search(query_embeddings, corpus_embeddings)\n",
      "\u001b[1;31mIndexError\u001b[0m: index 8604281 is out of bounds for dimension 0 with size 7999999"
     ]
    }
   ],
   "source": [
    "query_embeddings = []\n",
    "for i in relavant_docs:\n",
    "    if i<7999999:\n",
    "        query_embeddings.append(corpus_embeddings[i])\n",
    "    \n",
    "final_passages = []\n",
    "hits = util.semantic_search(query_embeddings, corpus_embeddings)\n",
    "for hit in hits[0]:\n",
    "    final_passages.append(int(hit['corpus_id']))\n",
    "\n",
    "for pid in final_passages:\n",
    "    print(str(pid)+\" : \")\n",
    "    print(d.fetchPassageContent(pid))\n",
    "    print()"
   ]
  },
  {
   "cell_type": "code",
   "execution_count": 9,
   "metadata": {},
   "outputs": [
    {
     "name": "stdout",
     "output_type": "stream",
     "text": [
      "Augmented reality. Augmented reality (AR) is a live direct or indirect view of a physical, real-world environment whose elements are augmented by computer-generated or extracted real-world sensory input such as sound, video, graphics or GPS data.\n"
     ]
    }
   ],
   "source": [
    "print(d.fetchPassageContent(7130335))"
   ]
  },
  {
   "cell_type": "code",
   "execution_count": 19,
   "metadata": {},
   "outputs": [
    {
     "name": "stdout",
     "output_type": "stream",
     "text": [
      "Page 6 of 28. aicpa.org/FRC. 1. Accounts Receivable Subledger Standards. The AR subledger standard format is intended to accommodate basic analysis of the AR balance. This may. include analysis of the levels of activity during a specified period, how much of the AR balance is liquidated.\n"
     ]
    }
   ],
   "source": [
    "print(d.fetchPassageContent(3923587))"
   ]
  }
 ],
 "metadata": {
  "kernelspec": {
   "display_name": "Python 3",
   "language": "python",
   "name": "python3"
  },
  "language_info": {
   "codemirror_mode": {
    "name": "ipython",
    "version": 3
   },
   "file_extension": ".py",
   "mimetype": "text/x-python",
   "name": "python",
   "nbconvert_exporter": "python",
   "pygments_lexer": "ipython3",
   "version": "3.9.10"
  }
 },
 "nbformat": 4,
 "nbformat_minor": 2
}
