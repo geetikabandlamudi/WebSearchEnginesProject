{
 "cells": [
  {
   "cell_type": "code",
   "execution_count": 1,
   "metadata": {},
   "outputs": [],
   "source": [
    "from sentence_transformers import SentenceTransformer\n",
    "import hnswlib\n",
    "model_name = 'all-MiniLM-L6-v2'\n",
    "sentence_transformer_model = SentenceTransformer(model_name)"
   ]
  },
  {
   "cell_type": "code",
   "execution_count": 2,
   "metadata": {},
   "outputs": [],
   "source": [
    "# Function to convert a query into an embedding\n",
    "def get_embedding(inp_question):\n",
    "    return sentence_transformer_model.encode(inp_question, convert_to_tensor=True)"
   ]
  },
  {
   "cell_type": "code",
   "execution_count": 3,
   "metadata": {},
   "outputs": [],
   "source": [
    "# Initialize the higher dimensional space\n",
    "num_elements, embedding_dim = 7999999, 384\n",
    "p = hnswlib.Index(space='cosine', dim=embedding_dim)\n",
    "p.load_index(\"hnsw_index_all.bin\")"
   ]
  },
  {
   "cell_type": "code",
   "execution_count": 4,
   "metadata": {},
   "outputs": [],
   "source": [
    "def search_hnsw(user_query, k = 100):\n",
    "    user_query_embedding = get_embedding(user_query)\n",
    "    p.set_ef(200)\n",
    "    result = {}\n",
    "    labels, distances = p.knn_query(user_query_embedding, k=k)\n",
    "    result['labels']  = labels[0]\n",
    "    result['distances'] = distances[0]\n",
    "    return result"
   ]
  },
  {
   "cell_type": "code",
   "execution_count": 5,
   "metadata": {},
   "outputs": [
    {
     "data": {
      "text/plain": [
       "array([ 126143,   60177,  826459,  893358,  826460,  580147, 2553103,\n",
       "       1831380, 2611189, 1831378, 1737325,  580148, 2611196, 1737323,\n",
       "       2715811,  733587,  893366,  126146,  701140,   17619, 1338009,\n",
       "       1446012, 2495218,  660347,  782047, 1434016,   16989,  701145,\n",
       "       2407186,  172793, 1203685, 2407185, 1737328,  172785, 2611194,\n",
       "        893360,  613292,  826467, 2186802, 1608797, 1157313,  471068,\n",
       "       2611198, 1608803,  965081, 1076754, 2162935,  669303, 1448697,\n",
       "       1024577,  893365,  893363,  826461, 2497597, 2162936, 1648657,\n",
       "       1881517,   35166,  126144, 2931925, 2162931, 2388095, 2611195,\n",
       "        685276,    7794, 1241124,  669302, 1203681,  407428, 2745700,\n",
       "       2988179, 2424001,    7800, 1737327, 2145269,  583911, 2745703,\n",
       "       1024574,  826463, 1241130, 2908975,   16992,  669300,  669306,\n",
       "       2186794, 1474231,  669309,  172788, 2570456, 1760493, 1631434,\n",
       "       2872214, 2650007, 2637420,  745521, 1955000,  920238, 2151358,\n",
       "       1051903, 2462648], dtype=uint64)"
      ]
     },
     "execution_count": 5,
     "metadata": {},
     "output_type": "execute_result"
    }
   ],
   "source": [
    "user_query = \"java\"\n",
    "search_result  = search_hnsw(user_query)\n",
    "search_result['labels']"
   ]
  },
  {
   "cell_type": "code",
   "execution_count": null,
   "metadata": {},
   "outputs": [],
   "source": []
  }
 ],
 "metadata": {
  "kernelspec": {
   "display_name": "Python 3",
   "language": "python",
   "name": "python3"
  },
  "language_info": {
   "codemirror_mode": {
    "name": "ipython",
    "version": 3
   },
   "file_extension": ".py",
   "mimetype": "text/x-python",
   "name": "python",
   "nbconvert_exporter": "python",
   "pygments_lexer": "ipython3",
   "version": "3.10.9"
  }
 },
 "nbformat": 4,
 "nbformat_minor": 2
}
